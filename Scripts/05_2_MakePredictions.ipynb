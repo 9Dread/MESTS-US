{
 "cells": [
  {
   "cell_type": "code",
   "execution_count": 1,
   "metadata": {},
   "outputs": [],
   "source": [
    "import catboost as cb\n",
    "import pandas as pd\n",
    "import os\n",
    "import random\n",
    "random.seed(1667)\n",
    "os.chdir(\"C:/Users/dread/Downloads/educationopportunity\")"
   ]
  },
  {
   "cell_type": "code",
   "execution_count": 2,
   "metadata": {},
   "outputs": [
    {
     "data": {
      "text/plain": [
       "<catboost.core.CatBoostRegressor at 0x23a7f7b53a0>"
      ]
     },
     "execution_count": 2,
     "metadata": {},
     "output_type": "execute_result"
    }
   ],
   "source": [
    "#load data and models\n",
    "predframe = pd.read_csv(\"Data/final_preprediction_frames/total_prepred.csv\")\n",
    "total = cb.CatBoostRegressor()\n",
    "total.load_model(\"Models/catboost\")\n",
    "math = cb.CatBoostRegressor()\n",
    "math.load_model(\"Models/catboostMath\")\n",
    "erw = cb.CatBoostRegressor()\n",
    "erw.load_model(\"Models/catboostERW\")"
   ]
  },
  {
   "cell_type": "code",
   "execution_count": 3,
   "metadata": {},
   "outputs": [],
   "source": [
    "#predict\n",
    "SAT_Total = total.predict(predframe[['exposure_parent_ses_hs','ec_high_parent_ses_hs','volunteering_rate_hs','ec_high_own_ses_hs','ec_parent_ses_hs','nonwhite_share2010','exposure_own_ses_hs','black','frac_coll_plus2016','ec_own_ses_hs','white']])\n",
    "SAT_Math = math.predict(predframe[['exposure_parent_ses_hs','ec_high_parent_ses_hs','volunteering_rate_hs','ec_high_own_ses_hs','ec_parent_ses_hs','nonwhite_share2010','exposure_own_ses_hs','black','frac_coll_plus2016','ec_own_ses_hs','white']])\n",
    "SAT_ERW = erw.predict(predframe[['exposure_parent_ses_hs', 'volunteering_rate_hs', 'ec_high_parent_ses_hs', 'ec_high_own_ses_hs', 'nonwhite_share2010', 'ec_parent_ses_hs', 'exposure_own_ses_hs', 'white', 'frac_coll_plus2016', 'civic_organizations_zip', 'black', 'hispanic']])\n",
    "\n",
    "predframe['SAT_Total'] = SAT_Total\n",
    "predframe['SAT_Math'] = SAT_Math\n",
    "predframe['SAT_ERW'] = SAT_ERW"
   ]
  },
  {
   "cell_type": "code",
   "execution_count": 4,
   "metadata": {},
   "outputs": [],
   "source": [
    "#save\n",
    "predframe.to_csv(\"Data/final_postprediction_frames/total_postpred.csv\")"
   ]
  }
 ],
 "metadata": {
  "kernelspec": {
   "display_name": "Python 3",
   "language": "python",
   "name": "python3"
  },
  "language_info": {
   "codemirror_mode": {
    "name": "ipython",
    "version": 3
   },
   "file_extension": ".py",
   "mimetype": "text/x-python",
   "name": "python",
   "nbconvert_exporter": "python",
   "pygments_lexer": "ipython3",
   "version": "3.12.7"
  }
 },
 "nbformat": 4,
 "nbformat_minor": 2
}
